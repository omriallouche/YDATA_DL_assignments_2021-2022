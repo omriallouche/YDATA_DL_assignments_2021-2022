{
  "cells": [
    {
      "cell_type": "markdown",
      "metadata": {
        "id": "X4WWyW4tM2Ir"
      },
      "source": [
        "# Convolutions and Dimensions"
      ]
    },
    {
      "cell_type": "code",
      "execution_count": null,
      "metadata": {
        "id": "u1ZXXN9lM2Is"
      },
      "outputs": [],
      "source": [
        "import numpy as np\n",
        "import matplotlib.pyplot as plt\n",
        "import scipy as sp\n",
        "import sklearn\n",
        "%matplotlib inline"
      ]
    },
    {
      "cell_type": "markdown",
      "metadata": {
        "id": "x0t9ocxlM2JM"
      },
      "source": [
        "### Convlutions \n",
        "Consider the following convolution filters:\n",
        "```python\n",
        "k1 = [ [0 0 0], [0 1 0], [0 0 0] ]\n",
        "k2 = [ [0 0 0], [0 0 1], [0 0 0] ]\n",
        "k3 = [ [-1-1 -1], [-1 8 -1], [-1 -1 -1] ]\n",
        "k4 = [ [1 1 1], [1 1 1], [1 1 1] ] / 9\n",
        "```\n",
        "\n",
        "Can you guess what each of them computes?"
      ]
    },
    {
      "cell_type": "markdown",
      "metadata": {
        "id": "QcwrzQguM2JN"
      },
      "source": [
        "#### Apply to arrays\n",
        "Apply the convolutions above to the following array, using numpy:\n"
      ]
    },
    {
      "cell_type": "code",
      "execution_count": null,
      "metadata": {
        "id": "_W0seUnYM2JO"
      },
      "outputs": [],
      "source": [
        "x = np.array([[-1, -3, -4,  0, -1],\n",
        "       [ 2, -2, -4,  0, -2],\n",
        "       [-3, -2,  2,  2,  3],\n",
        "       [ 0, -3, -4, -4, -2],\n",
        "       [-4, -2,  2,  0,  1]])"
      ]
    },
    {
      "cell_type": "code",
      "execution_count": null,
      "metadata": {
        "id": "5LNrgDPJM2JQ"
      },
      "outputs": [],
      "source": [
        "# Write your answer here"
      ]
    },
    {
      "cell_type": "markdown",
      "metadata": {
        "id": "XuFv87kEM2Ja"
      },
      "source": [
        "#### Apply to images\n",
        "Apply the convolution filters above on the image. You should convert the image to grayscale, and apply the filters on the grayscale image. \n",
        "Show the results:"
      ]
    },
    {
      "cell_type": "code",
      "execution_count": null,
      "metadata": {
        "id": "foMgNADVM2Jb"
      },
      "outputs": [],
      "source": [
        "import matplotlib.pyplot as plt\n",
        "import matplotlib.image as mpimg\n",
        "import scipy.misc\n",
        "face = scipy.misc.face()\n",
        "plt.imshow(face); plt.show()"
      ]
    },
    {
      "cell_type": "code",
      "execution_count": null,
      "metadata": {
        "id": "o6XAsGV4M2Jg"
      },
      "outputs": [],
      "source": [
        "# Write your answer here"
      ]
    },
    {
      "cell_type": "markdown",
      "metadata": {
        "id": "PWreTtHEM2JT"
      },
      "source": [
        "## Dimensions\n",
        "\n",
        "What would be the output dimensions in these cases (input size is NxN)?\n",
        "1. No padding, stride of 1\n",
        "1. No padding, stride of 2\n",
        "1. Zero padding, stride of 1\n",
        "1. Zero padding, stride of 2"
      ]
    },
    {
      "cell_type": "markdown",
      "metadata": {
        "id": "hn6zBCbhM2JV"
      },
      "source": [
        "Consider convolutions with kernels of size 3x3, 5x5, 7x7 etc.\n",
        "\n",
        "Come up with an equation for the dimension of the output image after a convolution layer. Your equation should also take into account the padding option and the stride. \n",
        "\n",
        "'Zero padding' means that we padded by floor(kernel_sz/2) in every dimension"
      ]
    },
    {
      "cell_type": "code",
      "execution_count": null,
      "metadata": {
        "id": "KIfmkghoM2JX"
      },
      "outputs": [],
      "source": [
        "# Write your answer here"
      ]
    },
    {
      "cell_type": "markdown",
      "metadata": {
        "id": "TjUIz0pQM2Jk"
      },
      "source": [
        "### Network dimensions\n",
        "Write below the dimensions and number of parameters in each layer of this network for the MNIST data:\n",
        "\n",
        "- Convolutional Layer #1: Applies 32 5x5 filters (extracting 5x5-pixel subregions), with ReLU activation function\n",
        "- Pooling Layer #1: Performs max pooling with a 2x2 filter and stride of 2 (which specifies that pooled regions do not overlap)\n",
        "- Convolutional Layer #2: Applies 64 5x5 filters, with ReLU activation function\n",
        "- Pooling Layer #2: Again, performs max pooling with a 2x2 filter and stride of 2\n",
        "- Dense Layer #1: 1,024 neurons, with dropout regularization rate of 0.4 (probability of 0.4 that any given element will be dropped during training)\n",
        "- Dense Layer #2 (Logits Layer): 10 neurons, one for each digit target class (0–9).\n",
        "\n",
        "Please write in this this format: (C,W,H) -> (#channels, width, height)\n"
      ]
    },
    {
      "cell_type": "code",
      "execution_count": null,
      "metadata": {
        "id": "3vSuawFaM2Jl"
      },
      "outputs": [],
      "source": [
        "# Write your answer here"
      ]
    }
  ],
  "metadata": {
    "colab": {
      "name": "assignment1.ipynb",
      "provenance": []
    },
    "kernelspec": {
      "display_name": "Python 3",
      "language": "python",
      "name": "python3"
    },
    "language_info": {
      "codemirror_mode": {
        "name": "ipython",
        "version": 3
      },
      "file_extension": ".py",
      "mimetype": "text/x-python",
      "name": "python",
      "nbconvert_exporter": "python",
      "pygments_lexer": "ipython3",
      "version": "3.7.6"
    },
    "varInspector": {
      "cols": {
        "lenName": 16,
        "lenType": 16,
        "lenVar": 40
      },
      "kernels_config": {
        "python": {
          "delete_cmd_postfix": "",
          "delete_cmd_prefix": "del ",
          "library": "var_list.py",
          "varRefreshCmd": "print(var_dic_list())"
        },
        "r": {
          "delete_cmd_postfix": ") ",
          "delete_cmd_prefix": "rm(",
          "library": "var_list.r",
          "varRefreshCmd": "cat(var_dic_list()) "
        }
      },
      "types_to_exclude": [
        "module",
        "function",
        "builtin_function_or_method",
        "instance",
        "_Feature"
      ],
      "window_display": false
    }
  },
  "nbformat": 4,
  "nbformat_minor": 0
}